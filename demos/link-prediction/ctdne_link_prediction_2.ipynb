{
 "cells": [
  {
   "cell_type": "code",
   "id": "initial_id",
   "metadata": {
    "collapsed": true,
    "ExecuteTime": {
     "end_time": "2024-12-21T19:58:10.730734Z",
     "start_time": "2024-12-21T19:58:08.064116Z"
    }
   },
   "source": "from stellargraph.datasets import IAContactsHypertext2009",
   "outputs": [],
   "execution_count": 1
  },
  {
   "metadata": {
    "ExecuteTime": {
     "end_time": "2024-12-21T19:58:10.735735Z",
     "start_time": "2024-12-21T19:58:10.733584Z"
    }
   },
   "cell_type": "code",
   "source": "dataset = IAContactsHypertext2009()",
   "id": "9abe526660233e19",
   "outputs": [],
   "execution_count": 2
  },
  {
   "metadata": {
    "ExecuteTime": {
     "end_time": "2024-12-21T19:58:10.858658Z",
     "start_time": "2024-12-21T19:58:10.795898Z"
    }
   },
   "cell_type": "code",
   "source": "dataset.load()",
   "id": "4a6039dbb14a1425",
   "outputs": [
    {
     "data": {
      "text/plain": [
       "(<stellargraph.core.graph.StellarGraph at 0x104fd5b80>,\n",
       "       source target    time\n",
       " 0         42     37      20\n",
       " 1         42     37      40\n",
       " 2         42     37      60\n",
       " 3         42     37      80\n",
       " 4         42     37     100\n",
       " ...      ...    ...     ...\n",
       " 20813     32     38  212340\n",
       " 20814     38     42  212340\n",
       " 20815     32     38  212360\n",
       " 20816     82     49  212360\n",
       " 20817     38     42  212360\n",
       " \n",
       " [20818 rows x 3 columns])"
      ]
     },
     "execution_count": 3,
     "metadata": {},
     "output_type": "execute_result"
    }
   ],
   "execution_count": 3
  },
  {
   "metadata": {},
   "cell_type": "code",
   "outputs": [],
   "execution_count": null,
   "source": "",
   "id": "56248aa214f74e91"
  }
 ],
 "metadata": {
  "kernelspec": {
   "display_name": "Python 3",
   "language": "python",
   "name": "python3"
  },
  "language_info": {
   "codemirror_mode": {
    "name": "ipython",
    "version": 2
   },
   "file_extension": ".py",
   "mimetype": "text/x-python",
   "name": "python",
   "nbconvert_exporter": "python",
   "pygments_lexer": "ipython2",
   "version": "2.7.6"
  }
 },
 "nbformat": 4,
 "nbformat_minor": 5
}
