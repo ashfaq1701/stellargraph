{
 "cells": [
  {
   "cell_type": "code",
   "id": "initial_id",
   "metadata": {
    "collapsed": true,
    "ExecuteTime": {
     "end_time": "2024-12-22T03:07:16.841692Z",
     "start_time": "2024-12-22T03:07:13.714233Z"
    }
   },
   "source": "from stellargraph.datasets import IAEmailEU",
   "outputs": [],
   "execution_count": 1
  },
  {
   "metadata": {
    "ExecuteTime": {
     "end_time": "2024-12-22T03:07:16.846023Z",
     "start_time": "2024-12-22T03:07:16.844079Z"
    }
   },
   "cell_type": "code",
   "source": "dataset = IAEmailEU()",
   "id": "9abe526660233e19",
   "outputs": [],
   "execution_count": 2
  },
  {
   "metadata": {
    "ExecuteTime": {
     "end_time": "2024-12-22T03:07:18.190183Z",
     "start_time": "2024-12-22T03:07:16.911439Z"
    }
   },
   "cell_type": "code",
   "source": "graph, edges = dataset.load()",
   "id": "4a6039dbb14a1425",
   "outputs": [],
   "execution_count": 3
  },
  {
   "metadata": {
    "ExecuteTime": {
     "end_time": "2024-12-22T03:07:18.202240Z",
     "start_time": "2024-12-22T03:07:18.196337Z"
    }
   },
   "cell_type": "code",
   "source": "edges",
   "id": "271a4df63907fe0c",
   "outputs": [
    {
     "data": {
      "text/plain": [
       "       source target      time\n",
       "0         582    364         0\n",
       "1         168    472      2797\n",
       "2         168    912      3304\n",
       "3           2    790      4523\n",
       "4           2    322      7926\n",
       "...       ...    ...       ...\n",
       "332329    324    367  45401817\n",
       "332330    790    126  45402441\n",
       "332331    790    126  45403709\n",
       "332332    782    126  45404903\n",
       "332333    685    643  45405138\n",
       "\n",
       "[332334 rows x 3 columns]"
      ],
      "text/html": [
       "<div>\n",
       "<style scoped>\n",
       "    .dataframe tbody tr th:only-of-type {\n",
       "        vertical-align: middle;\n",
       "    }\n",
       "\n",
       "    .dataframe tbody tr th {\n",
       "        vertical-align: top;\n",
       "    }\n",
       "\n",
       "    .dataframe thead th {\n",
       "        text-align: right;\n",
       "    }\n",
       "</style>\n",
       "<table border=\"1\" class=\"dataframe\">\n",
       "  <thead>\n",
       "    <tr style=\"text-align: right;\">\n",
       "      <th></th>\n",
       "      <th>source</th>\n",
       "      <th>target</th>\n",
       "      <th>time</th>\n",
       "    </tr>\n",
       "  </thead>\n",
       "  <tbody>\n",
       "    <tr>\n",
       "      <th>0</th>\n",
       "      <td>582</td>\n",
       "      <td>364</td>\n",
       "      <td>0</td>\n",
       "    </tr>\n",
       "    <tr>\n",
       "      <th>1</th>\n",
       "      <td>168</td>\n",
       "      <td>472</td>\n",
       "      <td>2797</td>\n",
       "    </tr>\n",
       "    <tr>\n",
       "      <th>2</th>\n",
       "      <td>168</td>\n",
       "      <td>912</td>\n",
       "      <td>3304</td>\n",
       "    </tr>\n",
       "    <tr>\n",
       "      <th>3</th>\n",
       "      <td>2</td>\n",
       "      <td>790</td>\n",
       "      <td>4523</td>\n",
       "    </tr>\n",
       "    <tr>\n",
       "      <th>4</th>\n",
       "      <td>2</td>\n",
       "      <td>322</td>\n",
       "      <td>7926</td>\n",
       "    </tr>\n",
       "    <tr>\n",
       "      <th>...</th>\n",
       "      <td>...</td>\n",
       "      <td>...</td>\n",
       "      <td>...</td>\n",
       "    </tr>\n",
       "    <tr>\n",
       "      <th>332329</th>\n",
       "      <td>324</td>\n",
       "      <td>367</td>\n",
       "      <td>45401817</td>\n",
       "    </tr>\n",
       "    <tr>\n",
       "      <th>332330</th>\n",
       "      <td>790</td>\n",
       "      <td>126</td>\n",
       "      <td>45402441</td>\n",
       "    </tr>\n",
       "    <tr>\n",
       "      <th>332331</th>\n",
       "      <td>790</td>\n",
       "      <td>126</td>\n",
       "      <td>45403709</td>\n",
       "    </tr>\n",
       "    <tr>\n",
       "      <th>332332</th>\n",
       "      <td>782</td>\n",
       "      <td>126</td>\n",
       "      <td>45404903</td>\n",
       "    </tr>\n",
       "    <tr>\n",
       "      <th>332333</th>\n",
       "      <td>685</td>\n",
       "      <td>643</td>\n",
       "      <td>45405138</td>\n",
       "    </tr>\n",
       "  </tbody>\n",
       "</table>\n",
       "<p>332334 rows × 3 columns</p>\n",
       "</div>"
      ]
     },
     "execution_count": 4,
     "metadata": {},
     "output_type": "execute_result"
    }
   ],
   "execution_count": 4
  },
  {
   "metadata": {
    "ExecuteTime": {
     "end_time": "2024-12-21T21:16:15.809932Z",
     "start_time": "2024-12-21T21:16:15.808490Z"
    }
   },
   "cell_type": "code",
   "source": "",
   "id": "f0a257c7668c4947",
   "outputs": [],
   "execution_count": null
  }
 ],
 "metadata": {
  "kernelspec": {
   "display_name": "Python 3",
   "language": "python",
   "name": "python3"
  },
  "language_info": {
   "codemirror_mode": {
    "name": "ipython",
    "version": 2
   },
   "file_extension": ".py",
   "mimetype": "text/x-python",
   "name": "python",
   "nbconvert_exporter": "python",
   "pygments_lexer": "ipython2",
   "version": "2.7.6"
  }
 },
 "nbformat": 4,
 "nbformat_minor": 5
}
